{
 "cells": [
  {
   "cell_type": "markdown",
   "metadata": {
    "id": "cTlEZiehiaMK"
   },
   "source": [
    "# Imports"
   ]
  },
  {
   "cell_type": "code",
   "execution_count": 57,
   "metadata": {
    "executionInfo": {
     "elapsed": 843,
     "status": "ok",
     "timestamp": 1603306928515,
     "user": {
      "displayName": "Lucas Nascimento Barros",
      "photoUrl": "https://lh3.googleusercontent.com/a-/AOh14GgMbOheZVKIMjmrihjT2Y24WMIzMgfqdI5Qu3pY=s64",
      "userId": "06035058941685765175"
     },
     "user_tz": 180
    },
    "id": "AjLzD2UFidMp"
   },
   "outputs": [],
   "source": [
    "# Imports\n",
    "\n",
    "import pandas as pd\n",
    "import seaborn as sns\n",
    "import matplotlib.pyplot as plt\n",
    "import numpy as np"
   ]
  },
  {
   "cell_type": "markdown",
   "metadata": {
    "id": "wsPn55fUiNEw"
   },
   "source": [
    "# Regressão linear"
   ]
  },
  {
   "cell_type": "code",
   "execution_count": 50,
   "metadata": {
    "executionInfo": {
     "elapsed": 597,
     "status": "ok",
     "timestamp": 1603306132147,
     "user": {
      "displayName": "Lucas Nascimento Barros",
      "photoUrl": "https://lh3.googleusercontent.com/a-/AOh14GgMbOheZVKIMjmrihjT2Y24WMIzMgfqdI5Qu3pY=s64",
      "userId": "06035058941685765175"
     },
     "user_tz": 180
    },
    "id": "hv6L7ryhiuvY"
   },
   "outputs": [],
   "source": [
    "# Imports\n",
    "\n",
    "from sklearn.linear_model import LinearRegression"
   ]
  },
  {
   "cell_type": "code",
   "execution_count": 2,
   "metadata": {
    "executionInfo": {
     "elapsed": 1217,
     "status": "ok",
     "timestamp": 1603303809389,
     "user": {
      "displayName": "Lucas Nascimento Barros",
      "photoUrl": "https://lh3.googleusercontent.com/a-/AOh14GgMbOheZVKIMjmrihjT2Y24WMIzMgfqdI5Qu3pY=s64",
      "userId": "06035058941685765175"
     },
     "user_tz": 180
    },
    "id": "GUCNpaJygWKT"
   },
   "outputs": [],
   "source": [
    "# Carrega a base de dados.\n",
    "\n",
    "data = pd.read_csv(\"http://faculty.marshall.usc.edu/gareth-james/ISL/Advertising.csv\", index_col=0)"
   ]
  },
  {
   "cell_type": "markdown",
   "metadata": {
    "id": "g8bd6kVmrAtm"
   },
   "source": [
    "## Análise dos dados"
   ]
  },
  {
   "cell_type": "code",
   "execution_count": 3,
   "metadata": {
    "colab": {
     "base_uri": "https://localhost:8080/",
     "height": 359
    },
    "executionInfo": {
     "elapsed": 1208,
     "status": "ok",
     "timestamp": 1603303809389,
     "user": {
      "displayName": "Lucas Nascimento Barros",
      "photoUrl": "https://lh3.googleusercontent.com/a-/AOh14GgMbOheZVKIMjmrihjT2Y24WMIzMgfqdI5Qu3pY=s64",
      "userId": "06035058941685765175"
     },
     "user_tz": 180
    },
    "id": "xsIzipQ2i6Cl",
    "outputId": "37f17a33-0978-4f3b-94f9-c0e3a0842361"
   },
   "outputs": [
    {
     "data": {
      "text/html": [
       "<div>\n",
       "<style scoped>\n",
       "    .dataframe tbody tr th:only-of-type {\n",
       "        vertical-align: middle;\n",
       "    }\n",
       "\n",
       "    .dataframe tbody tr th {\n",
       "        vertical-align: top;\n",
       "    }\n",
       "\n",
       "    .dataframe thead th {\n",
       "        text-align: right;\n",
       "    }\n",
       "</style>\n",
       "<table border=\"1\" class=\"dataframe\">\n",
       "  <thead>\n",
       "    <tr style=\"text-align: right;\">\n",
       "      <th></th>\n",
       "      <th>TV</th>\n",
       "      <th>radio</th>\n",
       "      <th>newspaper</th>\n",
       "      <th>sales</th>\n",
       "    </tr>\n",
       "  </thead>\n",
       "  <tbody>\n",
       "    <tr>\n",
       "      <th>1</th>\n",
       "      <td>230.1</td>\n",
       "      <td>37.8</td>\n",
       "      <td>69.2</td>\n",
       "      <td>22.1</td>\n",
       "    </tr>\n",
       "    <tr>\n",
       "      <th>2</th>\n",
       "      <td>44.5</td>\n",
       "      <td>39.3</td>\n",
       "      <td>45.1</td>\n",
       "      <td>10.4</td>\n",
       "    </tr>\n",
       "    <tr>\n",
       "      <th>3</th>\n",
       "      <td>17.2</td>\n",
       "      <td>45.9</td>\n",
       "      <td>69.3</td>\n",
       "      <td>9.3</td>\n",
       "    </tr>\n",
       "    <tr>\n",
       "      <th>4</th>\n",
       "      <td>151.5</td>\n",
       "      <td>41.3</td>\n",
       "      <td>58.5</td>\n",
       "      <td>18.5</td>\n",
       "    </tr>\n",
       "    <tr>\n",
       "      <th>5</th>\n",
       "      <td>180.8</td>\n",
       "      <td>10.8</td>\n",
       "      <td>58.4</td>\n",
       "      <td>12.9</td>\n",
       "    </tr>\n",
       "    <tr>\n",
       "      <th>6</th>\n",
       "      <td>8.7</td>\n",
       "      <td>48.9</td>\n",
       "      <td>75.0</td>\n",
       "      <td>7.2</td>\n",
       "    </tr>\n",
       "    <tr>\n",
       "      <th>7</th>\n",
       "      <td>57.5</td>\n",
       "      <td>32.8</td>\n",
       "      <td>23.5</td>\n",
       "      <td>11.8</td>\n",
       "    </tr>\n",
       "    <tr>\n",
       "      <th>8</th>\n",
       "      <td>120.2</td>\n",
       "      <td>19.6</td>\n",
       "      <td>11.6</td>\n",
       "      <td>13.2</td>\n",
       "    </tr>\n",
       "    <tr>\n",
       "      <th>9</th>\n",
       "      <td>8.6</td>\n",
       "      <td>2.1</td>\n",
       "      <td>1.0</td>\n",
       "      <td>4.8</td>\n",
       "    </tr>\n",
       "    <tr>\n",
       "      <th>10</th>\n",
       "      <td>199.8</td>\n",
       "      <td>2.6</td>\n",
       "      <td>21.2</td>\n",
       "      <td>10.6</td>\n",
       "    </tr>\n",
       "  </tbody>\n",
       "</table>\n",
       "</div>"
      ],
      "text/plain": [
       "       TV  radio  newspaper  sales\n",
       "1   230.1   37.8       69.2   22.1\n",
       "2    44.5   39.3       45.1   10.4\n",
       "3    17.2   45.9       69.3    9.3\n",
       "4   151.5   41.3       58.5   18.5\n",
       "5   180.8   10.8       58.4   12.9\n",
       "6     8.7   48.9       75.0    7.2\n",
       "7    57.5   32.8       23.5   11.8\n",
       "8   120.2   19.6       11.6   13.2\n",
       "9     8.6    2.1        1.0    4.8\n",
       "10  199.8    2.6       21.2   10.6"
      ]
     },
     "execution_count": 3,
     "metadata": {
      "tags": []
     },
     "output_type": "execute_result"
    }
   ],
   "source": [
    "# Imprime os 10 primeiros registros.\n",
    "\n",
    "data.head(10)"
   ]
  },
  {
   "cell_type": "code",
   "execution_count": 4,
   "metadata": {
    "colab": {
     "base_uri": "https://localhost:8080/",
     "height": 204
    },
    "executionInfo": {
     "elapsed": 1202,
     "status": "ok",
     "timestamp": 1603303809390,
     "user": {
      "displayName": "Lucas Nascimento Barros",
      "photoUrl": "https://lh3.googleusercontent.com/a-/AOh14GgMbOheZVKIMjmrihjT2Y24WMIzMgfqdI5Qu3pY=s64",
      "userId": "06035058941685765175"
     },
     "user_tz": 180
    },
    "id": "bGUTOiPTkR5B",
    "outputId": "37895ff3-d910-4fae-dfaf-428bec4e472d"
   },
   "outputs": [
    {
     "name": "stdout",
     "output_type": "stream",
     "text": [
      "<class 'pandas.core.frame.DataFrame'>\n",
      "Int64Index: 200 entries, 1 to 200\n",
      "Data columns (total 4 columns):\n",
      " #   Column     Non-Null Count  Dtype  \n",
      "---  ------     --------------  -----  \n",
      " 0   TV         200 non-null    float64\n",
      " 1   radio      200 non-null    float64\n",
      " 2   newspaper  200 non-null    float64\n",
      " 3   sales      200 non-null    float64\n",
      "dtypes: float64(4)\n",
      "memory usage: 7.8 KB\n"
     ]
    }
   ],
   "source": [
    "# Extração de informacões.\n",
    "\n",
    "data.info()"
   ]
  },
  {
   "cell_type": "code",
   "execution_count": 5,
   "metadata": {
    "colab": {
     "base_uri": "https://localhost:8080/",
     "height": 297
    },
    "executionInfo": {
     "elapsed": 1196,
     "status": "ok",
     "timestamp": 1603303809390,
     "user": {
      "displayName": "Lucas Nascimento Barros",
      "photoUrl": "https://lh3.googleusercontent.com/a-/AOh14GgMbOheZVKIMjmrihjT2Y24WMIzMgfqdI5Qu3pY=s64",
      "userId": "06035058941685765175"
     },
     "user_tz": 180
    },
    "id": "IDbwdtJjgdk2",
    "outputId": "7dc6cc83-590e-42e0-bfbe-978aaf45dea4"
   },
   "outputs": [
    {
     "data": {
      "text/html": [
       "<div>\n",
       "<style scoped>\n",
       "    .dataframe tbody tr th:only-of-type {\n",
       "        vertical-align: middle;\n",
       "    }\n",
       "\n",
       "    .dataframe tbody tr th {\n",
       "        vertical-align: top;\n",
       "    }\n",
       "\n",
       "    .dataframe thead th {\n",
       "        text-align: right;\n",
       "    }\n",
       "</style>\n",
       "<table border=\"1\" class=\"dataframe\">\n",
       "  <thead>\n",
       "    <tr style=\"text-align: right;\">\n",
       "      <th></th>\n",
       "      <th>TV</th>\n",
       "      <th>radio</th>\n",
       "      <th>newspaper</th>\n",
       "      <th>sales</th>\n",
       "    </tr>\n",
       "  </thead>\n",
       "  <tbody>\n",
       "    <tr>\n",
       "      <th>count</th>\n",
       "      <td>200.000000</td>\n",
       "      <td>200.000000</td>\n",
       "      <td>200.000000</td>\n",
       "      <td>200.000000</td>\n",
       "    </tr>\n",
       "    <tr>\n",
       "      <th>mean</th>\n",
       "      <td>147.042500</td>\n",
       "      <td>23.264000</td>\n",
       "      <td>30.554000</td>\n",
       "      <td>14.022500</td>\n",
       "    </tr>\n",
       "    <tr>\n",
       "      <th>std</th>\n",
       "      <td>85.854236</td>\n",
       "      <td>14.846809</td>\n",
       "      <td>21.778621</td>\n",
       "      <td>5.217457</td>\n",
       "    </tr>\n",
       "    <tr>\n",
       "      <th>min</th>\n",
       "      <td>0.700000</td>\n",
       "      <td>0.000000</td>\n",
       "      <td>0.300000</td>\n",
       "      <td>1.600000</td>\n",
       "    </tr>\n",
       "    <tr>\n",
       "      <th>25%</th>\n",
       "      <td>74.375000</td>\n",
       "      <td>9.975000</td>\n",
       "      <td>12.750000</td>\n",
       "      <td>10.375000</td>\n",
       "    </tr>\n",
       "    <tr>\n",
       "      <th>50%</th>\n",
       "      <td>149.750000</td>\n",
       "      <td>22.900000</td>\n",
       "      <td>25.750000</td>\n",
       "      <td>12.900000</td>\n",
       "    </tr>\n",
       "    <tr>\n",
       "      <th>75%</th>\n",
       "      <td>218.825000</td>\n",
       "      <td>36.525000</td>\n",
       "      <td>45.100000</td>\n",
       "      <td>17.400000</td>\n",
       "    </tr>\n",
       "    <tr>\n",
       "      <th>max</th>\n",
       "      <td>296.400000</td>\n",
       "      <td>49.600000</td>\n",
       "      <td>114.000000</td>\n",
       "      <td>27.000000</td>\n",
       "    </tr>\n",
       "  </tbody>\n",
       "</table>\n",
       "</div>"
      ],
      "text/plain": [
       "               TV       radio   newspaper       sales\n",
       "count  200.000000  200.000000  200.000000  200.000000\n",
       "mean   147.042500   23.264000   30.554000   14.022500\n",
       "std     85.854236   14.846809   21.778621    5.217457\n",
       "min      0.700000    0.000000    0.300000    1.600000\n",
       "25%     74.375000    9.975000   12.750000   10.375000\n",
       "50%    149.750000   22.900000   25.750000   12.900000\n",
       "75%    218.825000   36.525000   45.100000   17.400000\n",
       "max    296.400000   49.600000  114.000000   27.000000"
      ]
     },
     "execution_count": 5,
     "metadata": {
      "tags": []
     },
     "output_type": "execute_result"
    }
   ],
   "source": [
    "# Estatística descritiva.\n",
    "\n",
    "data.describe()"
   ]
  },
  {
   "cell_type": "code",
   "execution_count": 6,
   "metadata": {
    "colab": {
     "base_uri": "https://localhost:8080/",
     "height": 34
    },
    "executionInfo": {
     "elapsed": 1190,
     "status": "ok",
     "timestamp": 1603303809391,
     "user": {
      "displayName": "Lucas Nascimento Barros",
      "photoUrl": "https://lh3.googleusercontent.com/a-/AOh14GgMbOheZVKIMjmrihjT2Y24WMIzMgfqdI5Qu3pY=s64",
      "userId": "06035058941685765175"
     },
     "user_tz": 180
    },
    "id": "2V2XL4Ngm1Mx",
    "outputId": "d298faa2-8a6c-4757-cbc3-f37ce8d86471"
   },
   "outputs": [
    {
     "data": {
      "text/plain": [
       "Index(['TV', 'radio', 'newspaper', 'sales'], dtype='object')"
      ]
     },
     "execution_count": 6,
     "metadata": {
      "tags": []
     },
     "output_type": "execute_result"
    }
   ],
   "source": [
    "# Verificação dos nomes das colunas.\n",
    "\n",
    "data.columns"
   ]
  },
  {
   "cell_type": "code",
   "execution_count": 7,
   "metadata": {
    "colab": {
     "base_uri": "https://localhost:8080/",
     "height": 265
    },
    "executionInfo": {
     "elapsed": 1805,
     "status": "ok",
     "timestamp": 1603303810013,
     "user": {
      "displayName": "Lucas Nascimento Barros",
      "photoUrl": "https://lh3.googleusercontent.com/a-/AOh14GgMbOheZVKIMjmrihjT2Y24WMIzMgfqdI5Qu3pY=s64",
      "userId": "06035058941685765175"
     },
     "user_tz": 180
    },
    "id": "7dlr23pfnhVT",
    "outputId": "fefc4ea4-afca-4cd4-d9e1-b3e345a77fab"
   },
   "outputs": [
    {
     "data": {
      "image/png": "[encoded data removed]",
      "text/plain": [
       "<Figure size 432x288 with 1 Axes>"
      ]
     },
     "metadata": {
      "needs_background": "light",
      "tags": []
     },
     "output_type": "display_data"
    }
   ],
   "source": [
    "# Boxplot - Visualização de outliers.\n",
    "\n",
    "boxplot = data.boxplot()"
   ]
  },
  {
   "cell_type": "code",
   "execution_count": 8,
   "metadata": {
    "colab": {
     "base_uri": "https://localhost:8080/",
     "height": 265
    },
    "executionInfo": {
     "elapsed": 1800,
     "status": "ok",
     "timestamp": 1603303810014,
     "user": {
      "displayName": "Lucas Nascimento Barros",
      "photoUrl": "https://lh3.googleusercontent.com/a-/AOh14GgMbOheZVKIMjmrihjT2Y24WMIzMgfqdI5Qu3pY=s64",
      "userId": "06035058941685765175"
     },
     "user_tz": 180
    },
    "id": "P5QmNfFsoHVU",
    "outputId": "4819e556-c264-4a72-adda-4d398ac7c5d5"
   },
   "outputs": [
    {
     "data": {
      "image/png": "[encoded data removed]",
      "text/plain": [
       "<Figure size 432x288 with 1 Axes>"
      ]
     },
     "metadata": {
      "needs_background": "light",
      "tags": []
     },
     "output_type": "display_data"
    }
   ],
   "source": [
    "# Visualização da coluna com outliers.\n",
    "\n",
    "boxplot = data.boxplot(column=[\"newspaper\"])"
   ]
  },
  {
   "cell_type": "code",
   "execution_count": 9,
   "metadata": {
    "colab": {
     "base_uri": "https://localhost:8080/",
     "height": 265
    },
    "executionInfo": {
     "elapsed": 1794,
     "status": "ok",
     "timestamp": 1603303810014,
     "user": {
      "displayName": "Lucas Nascimento Barros",
      "photoUrl": "https://lh3.googleusercontent.com/a-/AOh14GgMbOheZVKIMjmrihjT2Y24WMIzMgfqdI5Qu3pY=s64",
      "userId": "06035058941685765175"
     },
     "user_tz": 180
    },
    "id": "9Xd6S8wSgdih",
    "outputId": "4d00bb5b-517e-479b-d484-20ca28f826db"
   },
   "outputs": [
    {
     "data": {
      "image/png": "[encoded data removed]",
      "text/plain": [
       "<Figure size 432x288 with 1 Axes>"
      ]
     },
     "metadata": {
      "needs_background": "light",
      "tags": []
     },
     "output_type": "display_data"
    }
   ],
   "source": [
    "boxplot = data.boxplot(column=[\"TV\"])"
   ]
  },
  {
   "cell_type": "code",
   "execution_count": 10,
   "metadata": {
    "colab": {
     "base_uri": "https://localhost:8080/",
     "height": 265
    },
    "executionInfo": {
     "elapsed": 2435,
     "status": "ok",
     "timestamp": 1603303810660,
     "user": {
      "displayName": "Lucas Nascimento Barros",
      "photoUrl": "https://lh3.googleusercontent.com/a-/AOh14GgMbOheZVKIMjmrihjT2Y24WMIzMgfqdI5Qu3pY=s64",
      "userId": "06035058941685765175"
     },
     "user_tz": 180
    },
    "id": "Zncj38VogdgF",
    "outputId": "77b91198-8f16-49bf-88e2-f07fa7872edb"
   },
   "outputs": [
    {
     "data": {
      "image/png": "[encoded data removed]",
      "text/plain": [
       "<Figure size 432x288 with 1 Axes>"
      ]
     },
     "metadata": {
      "needs_background": "light",
      "tags": []
     },
     "output_type": "display_data"
    }
   ],
   "source": [
    "boxplot = data.boxplot(column=[\"radio\"])"
   ]
  },
  {
   "cell_type": "code",
   "execution_count": 11,
   "metadata": {
    "colab": {
     "base_uri": "https://localhost:8080/",
     "height": 286
    },
    "executionInfo": {
     "elapsed": 2428,
     "status": "ok",
     "timestamp": 1603303810660,
     "user": {
      "displayName": "Lucas Nascimento Barros",
      "photoUrl": "https://lh3.googleusercontent.com/a-/AOh14GgMbOheZVKIMjmrihjT2Y24WMIzMgfqdI5Qu3pY=s64",
      "userId": "06035058941685765175"
     },
     "user_tz": 180
    },
    "id": "ASuEZiIYgdbV",
    "outputId": "fe660f26-9e61-4415-aaa3-0635d6ff8082"
   },
   "outputs": [
    {
     "data": {
      "text/plain": [
       "<matplotlib.axes._subplots.AxesSubplot at 0x7f06db09e2e8>"
      ]
     },
     "execution_count": 11,
     "metadata": {
      "tags": []
     },
     "output_type": "execute_result"
    },
    {
     "data": {
      "image/png": "[encoded data removed]",
      "text/plain": [
       "<Figure size 432x288 with 2 Axes>"
      ]
     },
     "metadata": {
      "needs_background": "light",
      "tags": []
     },
     "output_type": "display_data"
    }
   ],
   "source": [
    "# Heatmap de correlação.\n",
    "\n",
    "corr = data.corr()\n",
    "sns.heatmap(corr, xticklabels=corr.columns, yticklabels=corr.columns,annot=True)"
   ]
  },
  {
   "cell_type": "markdown",
   "metadata": {
    "id": "jtfZSZeKun9T"
   },
   "source": [
    "## Treinamento"
   ]
  },
  {
   "cell_type": "markdown",
   "metadata": {
    "id": "kj2wYDOSvx7k"
   },
   "source": [
    "### Regressão linear simples\n",
    "\n",
    "Modelo simples de regressão linear onde é levado em consideração somente um atributo.\n"
   ]
  },
  {
   "cell_type": "code",
   "execution_count": 12,
   "metadata": {
    "executionInfo": {
     "elapsed": 2424,
     "status": "ok",
     "timestamp": 1603303810661,
     "user": {
      "displayName": "Lucas Nascimento Barros",
      "photoUrl": "https://lh3.googleusercontent.com/a-/AOh14GgMbOheZVKIMjmrihjT2Y24WMIzMgfqdI5Qu3pY=s64",
      "userId": "06035058941685765175"
     },
     "user_tz": 180
    },
    "id": "GB__RIzIgdY5"
   },
   "outputs": [],
   "source": [
    "# Carregando os dados de treinamento e os labels\n",
    "\n",
    "feature_cols = ['TV'] # Carregando apenas os dados de TV\n",
    "\n",
    "X = data[feature_cols] # Dados de Treinamento\n",
    "y = data.sales # Labels dos dados de Treinamento"
   ]
  },
  {
   "cell_type": "code",
   "execution_count": 13,
   "metadata": {
    "colab": {
     "base_uri": "https://localhost:8080/",
     "height": 34
    },
    "executionInfo": {
     "elapsed": 2419,
     "status": "ok",
     "timestamp": 1603303810662,
     "user": {
      "displayName": "Lucas Nascimento Barros",
      "photoUrl": "https://lh3.googleusercontent.com/a-/AOh14GgMbOheZVKIMjmrihjT2Y24WMIzMgfqdI5Qu3pY=s64",
      "userId": "06035058941685765175"
     },
     "user_tz": 180
    },
    "id": "WB_DQcf2gdWI",
    "outputId": "285f3784-d5bd-4501-806c-ae557bac5003"
   },
   "outputs": [
    {
     "data": {
      "text/plain": [
       "LinearRegression(copy_X=True, fit_intercept=True, n_jobs=None, normalize=False)"
      ]
     },
     "execution_count": 13,
     "metadata": {
      "tags": []
     },
     "output_type": "execute_result"
    }
   ],
   "source": [
    "# Instanciando o modelo\n",
    "lm = LinearRegression() \n",
    "\n",
    "# Treinando com os dados de treinamento\n",
    "lm.fit(X, y) "
   ]
  },
  {
   "cell_type": "code",
   "execution_count": 14,
   "metadata": {
    "colab": {
     "base_uri": "https://localhost:8080/",
     "height": 51
    },
    "executionInfo": {
     "elapsed": 2414,
     "status": "ok",
     "timestamp": 1603303810662,
     "user": {
      "displayName": "Lucas Nascimento Barros",
      "photoUrl": "https://lh3.googleusercontent.com/a-/AOh14GgMbOheZVKIMjmrihjT2Y24WMIzMgfqdI5Qu3pY=s64",
      "userId": "06035058941685765175"
     },
     "user_tz": 180
    },
    "id": "k75KjMZ-gdTi",
    "outputId": "a6538d05-e745-486a-cc93-f464a7adfa71"
   },
   "outputs": [
    {
     "name": "stdout",
     "output_type": "stream",
     "text": [
      "Valor de Beta_0: 7.032593549127695\n",
      "Valor de Beta_1: 0.04753664043301975\n"
     ]
    }
   ],
   "source": [
    "# Coeficientes ou parâmetros do modelo\n",
    "\n",
    "# Imprime beta_0 - eixo vertical\n",
    "print(\"Valor de Beta_0: \" + str(lm.intercept_))\n",
    "\n",
    "# Imprime beta_1 - coeficiente angular da reta(declive)\n",
    "# Implica em um aumento de 0.0475366404330 nas vendas.\n",
    "print(\"Valor de Beta_1: \" + str(lm.coef_[0]))"
   ]
  },
  {
   "cell_type": "code",
   "execution_count": 15,
   "metadata": {
    "colab": {
     "base_uri": "https://localhost:8080/",
     "height": 34
    },
    "executionInfo": {
     "elapsed": 2407,
     "status": "ok",
     "timestamp": 1603303810662,
     "user": {
      "displayName": "Lucas Nascimento Barros",
      "photoUrl": "https://lh3.googleusercontent.com/a-/AOh14GgMbOheZVKIMjmrihjT2Y24WMIzMgfqdI5Qu3pY=s64",
      "userId": "06035058941685765175"
     },
     "user_tz": 180
    },
    "id": "0rlRtUc6gnTx",
    "outputId": "15d22c65-e019-44ea-a028-5837704a47f3"
   },
   "outputs": [
    {
     "data": {
      "text/plain": [
       "array([9.40942557])"
      ]
     },
     "execution_count": 15,
     "metadata": {
      "tags": []
     },
     "output_type": "execute_result"
    }
   ],
   "source": [
    "# Faz a estimativa dos valores de quanto será vendido se gastarmos 50.000 em TV.\n",
    "# y = 7.03259354913 + 0.047536640433 × 50\n",
    "\n",
    "lm.predict([[50]])"
   ]
  },
  {
   "cell_type": "code",
   "execution_count": 16,
   "metadata": {
    "colab": {
     "base_uri": "https://localhost:8080/",
     "height": 34
    },
    "executionInfo": {
     "elapsed": 2384,
     "status": "ok",
     "timestamp": 1603303810663,
     "user": {
      "displayName": "Lucas Nascimento Barros",
      "photoUrl": "https://lh3.googleusercontent.com/a-/AOh14GgMbOheZVKIMjmrihjT2Y24WMIzMgfqdI5Qu3pY=s64",
      "userId": "06035058941685765175"
     },
     "user_tz": 180
    },
    "id": "KXWk1laUgnRe",
    "outputId": "fffd2e05-30dc-4f1d-c288-dd24cb83619e"
   },
   "outputs": [
    {
     "data": {
      "text/plain": [
       "array([ 9.40942557, 16.53992164,  7.50795995])"
      ]
     },
     "execution_count": 16,
     "metadata": {
      "tags": []
     },
     "output_type": "execute_result"
    }
   ],
   "source": [
    "# Várias estimativas.\n",
    "\n",
    "lm.predict([[50], [200], [10]])"
   ]
  },
  {
   "cell_type": "code",
   "execution_count": 17,
   "metadata": {
    "colab": {
     "base_uri": "https://localhost:8080/",
     "height": 296
    },
    "executionInfo": {
     "elapsed": 2751,
     "status": "ok",
     "timestamp": 1603303811052,
     "user": {
      "displayName": "Lucas Nascimento Barros",
      "photoUrl": "https://lh3.googleusercontent.com/a-/AOh14GgMbOheZVKIMjmrihjT2Y24WMIzMgfqdI5Qu3pY=s64",
      "userId": "06035058941685765175"
     },
     "user_tz": 180
    },
    "id": "fHHHbzjOgnMW",
    "outputId": "c7a3799f-06f7-4a43-a8f9-d55cd57e2dbc"
   },
   "outputs": [
    {
     "data": {
      "text/plain": [
       "[<matplotlib.lines.Line2D at 0x7f06db0a59e8>]"
      ]
     },
     "execution_count": 17,
     "metadata": {
      "tags": []
     },
     "output_type": "execute_result"
    },
    {
     "data": {
      "image/png": "[encoded data removed]",
      "text/plain": [
       "<Figure size 432x288 with 1 Axes>"
      ]
     },
     "metadata": {
      "needs_background": "light",
      "tags": []
     },
     "output_type": "display_data"
    }
   ],
   "source": [
    "'''\n",
    "O código a seguir faz a predição para o menor e maior valor de X na base de \n",
    "treinamento. Estes valores são utilizados para construir uma reta que é plotada \n",
    "sobre os dados de treinamento.\n",
    "'''\n",
    "\n",
    "# Cria um novo dataframe com TV como coluna e min e max como valores desssa coluna\n",
    "# Menor e Maior valores de X na base de treinamento\n",
    "X_new = pd.DataFrame({'TV': [data.TV.min(), data.TV.max()]})\n",
    "\n",
    "# Predição destes valores - residual sum of squares(RSS)\n",
    "preds = lm.predict(X_new)\n",
    "\n",
    "# Plotagem dos valores da base de treinamento\n",
    "data.plot(kind='scatter', x='TV', y='sales') \n",
    "\n",
    "# Plotagem da reta\n",
    "plt.plot(X_new, preds, c='red', linewidth=2) "
   ]
  },
  {
   "cell_type": "markdown",
   "metadata": {
    "id": "BZVSZAcGzCro"
   },
   "source": [
    "### Regressão linear múltipla\n",
    "\n",
    "Ao invés de fazer a análise a partir de um único atributo, utilizamos mais de um."
   ]
  },
  {
   "cell_type": "code",
   "execution_count": 18,
   "metadata": {
    "executionInfo": {
     "elapsed": 2744,
     "status": "ok",
     "timestamp": 1603303811053,
     "user": {
      "displayName": "Lucas Nascimento Barros",
      "photoUrl": "https://lh3.googleusercontent.com/a-/AOh14GgMbOheZVKIMjmrihjT2Y24WMIzMgfqdI5Qu3pY=s64",
      "userId": "06035058941685765175"
     },
     "user_tz": 180
    },
    "id": "kjcN1u8Pgt7S"
   },
   "outputs": [],
   "source": [
    "# Carregando os dados de treinamento e os labels.\n",
    "\n",
    "feature_cols = ['TV','radio','newspaper']\n",
    "\n",
    "X = data[feature_cols] \n",
    "y = data.sales "
   ]
  },
  {
   "cell_type": "code",
   "execution_count": 20,
   "metadata": {
    "colab": {
     "base_uri": "https://localhost:8080/",
     "height": 102
    },
    "executionInfo": {
     "elapsed": 2711,
     "status": "ok",
     "timestamp": 1603303811054,
     "user": {
      "displayName": "Lucas Nascimento Barros",
      "photoUrl": "https://lh3.googleusercontent.com/a-/AOh14GgMbOheZVKIMjmrihjT2Y24WMIzMgfqdI5Qu3pY=s64",
      "userId": "06035058941685765175"
     },
     "user_tz": 180
    },
    "id": "9sztUWFcQ6BJ",
    "outputId": "44f70de2-58d7-4098-dd5a-052cd7cc6f9a"
   },
   "outputs": [
    {
     "name": "stdout",
     "output_type": "stream",
     "text": [
      "Valor de Beta_0: \n",
      "2.938889369459412\n",
      "\n",
      "Valores de Beta_1, Beta_2, ..., Beta_n: \n",
      "[('TV', 0.0457646454553976), ('radio', 0.18853001691820448), ('newspaper', -0.0010374930424763285)]\n"
     ]
    }
   ],
   "source": [
    "#Imprimindo os coeficientes encontrados\n",
    "\n",
    "print(\"Valor de Beta_0: \")\n",
    "print(str(lm.intercept_))\n",
    "\n",
    "print()\n",
    "\n",
    "print(\"Valores de Beta_1, Beta_2, ..., Beta_n: \")\n",
    "# Junta duas tuplas e transforma em lista\n",
    "print(list(zip(feature_cols, lm.coef_)))\n",
    "# print(str(lm.coef_[1]))"
   ]
  },
  {
   "cell_type": "code",
   "execution_count": 19,
   "metadata": {
    "colab": {
     "base_uri": "https://localhost:8080/",
     "height": 34
    },
    "executionInfo": {
     "elapsed": 2731,
     "status": "ok",
     "timestamp": 1603303811053,
     "user": {
      "displayName": "Lucas Nascimento Barros",
      "photoUrl": "https://lh3.googleusercontent.com/a-/AOh14GgMbOheZVKIMjmrihjT2Y24WMIzMgfqdI5Qu3pY=s64",
      "userId": "06035058941685765175"
     },
     "user_tz": 180
    },
    "id": "0MiEOYegQ3ad",
    "outputId": "a6619e55-bea7-4401-cb5a-fe81b443328c"
   },
   "outputs": [
    {
     "data": {
      "text/plain": [
       "LinearRegression(copy_X=True, fit_intercept=True, n_jobs=None, normalize=False)"
      ]
     },
     "execution_count": 19,
     "metadata": {
      "tags": []
     },
     "output_type": "execute_result"
    }
   ],
   "source": [
    "#Instanciando e treinando o modelo de regressão linear\n",
    "\n",
    "lm = LinearRegression()\n",
    "lm.fit(X, y)"
   ]
  },
  {
   "cell_type": "code",
   "execution_count": 21,
   "metadata": {
    "colab": {
     "base_uri": "https://localhost:8080/",
     "height": 34
    },
    "executionInfo": {
     "elapsed": 2683,
     "status": "ok",
     "timestamp": 1603303811054,
     "user": {
      "displayName": "Lucas Nascimento Barros",
      "photoUrl": "https://lh3.googleusercontent.com/a-/AOh14GgMbOheZVKIMjmrihjT2Y24WMIzMgfqdI5Qu3pY=s64",
      "userId": "06035058941685765175"
     },
     "user_tz": 180
    },
    "id": "mWUrrBBLguAN",
    "outputId": "1c4928ab-d6fd-44e8-ff3f-828f9d0102f5"
   },
   "outputs": [
    {
     "data": {
      "text/plain": [
       "array([12.20266701, 13.9667437 ])"
      ]
     },
     "execution_count": 21,
     "metadata": {
      "tags": []
     },
     "output_type": "execute_result"
    }
   ],
   "source": [
    "# Faz a estimativa dos valores de quanto será vendido se gastarmos x, x, x em TV, radio e newspaper.\n",
    "# y = 0.046 × TV + 0.189 × radio + −0.001 × newspaper + 2.939 (beta_0)\n",
    "\n",
    "lm.predict([[100, 25, 25], [200, 10, 10]])"
   ]
  },
  {
   "cell_type": "markdown",
   "metadata": {
    "id": "44uUsQs5huqB"
   },
   "source": [
    "### Comparando os dois modelos de regressão"
   ]
  },
  {
   "cell_type": "code",
   "execution_count": 36,
   "metadata": {
    "colab": {
     "base_uri": "https://localhost:8080/",
     "height": 51
    },
    "executionInfo": {
     "elapsed": 867,
     "status": "ok",
     "timestamp": 1603304291446,
     "user": {
      "displayName": "Lucas Nascimento Barros",
      "photoUrl": "https://lh3.googleusercontent.com/a-/AOh14GgMbOheZVKIMjmrihjT2Y24WMIzMgfqdI5Qu3pY=s64",
      "userId": "06035058941685765175"
     },
     "user_tz": 180
    },
    "id": "gfBFTufFhFMy",
    "outputId": "052938f5-6fd4-48e2-e74c-bffea1240470"
   },
   "outputs": [
    {
     "name": "stdout",
     "output_type": "stream",
     "text": [
      "Score da regressão linear simples: 0.611875 \n",
      "Score da regressão linear múltipla: 0.897211 \n"
     ]
    }
   ],
   "source": [
    "# Carregando os dados de treinamento e os labels para o modelo de regressão linear simples\n",
    "\n",
    "feature_cols_simple = ['TV']\n",
    "\n",
    "X_simple = data[feature_cols_simple] # Dados de Treinamento\n",
    "y_simple = data.sales # Labels dos dados de Treinamento\n",
    "\n",
    "lm_simple = LinearRegression() # Instanciando o modelo\n",
    "lm_simple.fit(X_simple, y_simple) # Treinando com os dados de treinamento\n",
    "\n",
    "score_simple = lm_simple.score(X_simple, y_simple)\n",
    "\n",
    "print(\"Score da regressão linear simples: %f \" % score_simple)\n",
    "\n",
    "# Carregando os dados de treinamento e os labels para o modelo de regressão linear múltipla\n",
    "\n",
    "feature_cols_multiple = ['TV','radio','newspaper']\n",
    "\n",
    "X_multiple = data[feature_cols_multiple]\n",
    "y_multiple = data.sales\n",
    "\n",
    "lm_multiple = LinearRegression()\n",
    "lm_multiple.fit(X_multiple, y_multiple)\n",
    "\n",
    "score_multiple = lm_multiple.score(X_multiple, y_multiple)\n",
    "\n",
    "print(\"Score da regressão linear múltipla: %f \" % score_multiple)"
   ]
  }
 ],
 "metadata": {
  "colab": {
   "authorship_tag": "ABX9TyPkYJkjBGlySi9cEdspqC9A",
   "collapsed_sections": [],
   "name": "Lucas Nascimento Barros - Lab401.ipynb",
   "provenance": []
  },
  "kernelspec": {
   "display_name": "Python 3 (ipykernel)",
   "language": "python",
   "name": "python3"
  },
  "language_info": {
   "codemirror_mode": {
    "name": "ipython",
    "version": 3
   },
   "file_extension": ".py",
   "mimetype": "text/x-python",
   "name": "python",
   "nbconvert_exporter": "python",
   "pygments_lexer": "ipython3",
   "version": "3.9.7"
  }
 },
 "nbformat": 4,
 "nbformat_minor": 1
}
